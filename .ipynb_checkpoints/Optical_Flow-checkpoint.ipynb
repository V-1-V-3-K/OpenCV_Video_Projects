{
 "cells": [
  {
   "cell_type": "markdown",
   "metadata": {},
   "source": [
    "# Import Libraries"
   ]
  },
  {
   "cell_type": "code",
   "execution_count": 1,
   "metadata": {},
   "outputs": [],
   "source": [
    "import cv2\n",
    "import numpy as np\n",
    "import matplotlib.pyplot as plt"
   ]
  },
  {
   "cell_type": "markdown",
   "metadata": {},
   "source": [
    "# Parameters for Shi-tomasi corner detection"
   ]
  },
  {
   "cell_type": "code",
   "execution_count": 2,
   "metadata": {},
   "outputs": [],
   "source": [
    "st_params = dict(maxCorners = 30,\n",
    "                qualityLevel = 0.2,\n",
    "                minDistance = 2,\n",
    "                blockSize = 7)"
   ]
  },
  {
   "cell_type": "markdown",
   "metadata": {},
   "source": [
    "# Parameters for Lucas-Kande optical flow"
   ]
  },
  {
   "cell_type": "code",
   "execution_count": 3,
   "metadata": {},
   "outputs": [],
   "source": [
    "lk_params = dict(winSize = (15,15),\n",
    "                maxLevel = 2,\n",
    "                criteria = (cv2.TERM_CRITERIA_EPS | cv2.TERM_CRITERIA_COUNT, 10, 1))"
   ]
  },
  {
   "cell_type": "markdown",
   "metadata": {},
   "source": [
    "# Video Capture"
   ]
  },
  {
   "cell_type": "code",
   "execution_count": 4,
   "metadata": {},
   "outputs": [],
   "source": [
    "cap = cv2.VideoCapture(\"Videos/run.mp4\")"
   ]
  },
  {
   "cell_type": "markdown",
   "metadata": {},
   "source": [
    "# Color for optical flow"
   ]
  },
  {
   "cell_type": "code",
   "execution_count": 5,
   "metadata": {},
   "outputs": [],
   "source": [
    "color = (0,255,0)"
   ]
  },
  {
   "cell_type": "markdown",
   "metadata": {},
   "source": [
    "# Read the capture and get the first frame"
   ]
  },
  {
   "cell_type": "code",
   "execution_count": 6,
   "metadata": {},
   "outputs": [],
   "source": [
    "ret,first_frame = cap.read()"
   ]
  },
  {
   "cell_type": "markdown",
   "metadata": {},
   "source": [
    "# Convert frame to Grayscale"
   ]
  },
  {
   "cell_type": "code",
   "execution_count": 7,
   "metadata": {},
   "outputs": [],
   "source": [
    "prev_gray = cv2.cvtColor(first_frame, cv2.COLOR_BGR2GRAY)\n",
    "##plt.imshow(prev_gray)"
   ]
  },
  {
   "cell_type": "markdown",
   "metadata": {},
   "source": [
    "# Find the strongest corners in the first frame"
   ]
  },
  {
   "cell_type": "code",
   "execution_count": 8,
   "metadata": {},
   "outputs": [],
   "source": [
    "prev = cv2.goodFeaturesToTrack(prev_gray,\n",
    "                              mask = None,\n",
    "                              **st_params)"
   ]
  },
  {
   "cell_type": "markdown",
   "metadata": {},
   "source": [
    "# Create an image with the same dimensions as the frame for later drawing purposes"
   ]
  },
  {
   "cell_type": "code",
   "execution_count": 9,
   "metadata": {},
   "outputs": [],
   "source": [
    "mask = np.zeros_like(first_frame)"
   ]
  },
  {
   "cell_type": "code",
   "execution_count": 10,
   "metadata": {},
   "outputs": [],
   "source": [
    "# While loop\n",
    "while(cap.isOpened()):\n",
    "    # Read the capture and get the first frame\n",
    "    ret,frame = cap.read()\n",
    "    \n",
    "    # Convert all frame to Grayscale (previously we did only the first frame)\n",
    "    gray = cv2.cvtColor(frame, cv2.COLOR_BGR2GRAY)\n",
    "    \n",
    "    # Calculate optical flow by Lucas-Kanade\n",
    "    next, status, error = cv2.calcOpticalFlowPyrLK(prev_gray,gray,prev,None,**lk_params)\n",
    "    \n",
    "    # Select good feature for the previous position\n",
    "    good_old =prev[status==1]\n",
    "    \n",
    "    # Select good feature for the next position\n",
    "    good_new =next[status==1]\n",
    "    \n",
    "    # Draw optical flow track\n",
    "    for i, (new,old) in enumerate(zip(good_new,good_old)):\n",
    "            \n",
    "        # Return coordinates for the new point\n",
    "        a,b = new.ravel()\n",
    "        \n",
    "        # Return coordinates for the old point\n",
    "        c,d = old.ravel()\n",
    "        \n",
    "        # Draw line between new and old position\n",
    "        mask = cv2.line(mask,\n",
    "                       (a,b),\n",
    "                       (c,d),\n",
    "                       color,\n",
    "                       2)\n",
    "        \n",
    "        # Draw filled circle\n",
    "        frame = cv2.circle(frame,\n",
    "                        (a,b),\n",
    "                        3,\n",
    "                        color,\n",
    "                        -1)\n",
    "        \n",
    "    # Overlay optical flow on original frame\n",
    "    output = cv2.add(frame,mask)\n",
    "    \n",
    "    # Update previous frame\n",
    "    prev_gray = gray.copy()\n",
    "    \n",
    "    # Update previous good features\n",
    "    prev = good_new.reshape(-1,1,2)\n",
    "    \n",
    "    # Open new window and display the output\n",
    "    cv2.imshow(\"Optical Flow\",output)\n",
    "    \n",
    "    # Close the frame\n",
    "    if cv2.waitKey(30) & 0xFF == ord(\"q\"):\n",
    "        break\n",
    "    \n",
    "# Release and Destroy\n",
    "cap.release()\n",
    "cv2.destroyAllWindows()\n",
    "\n"
   ]
  },
  {
   "cell_type": "code",
   "execution_count": null,
   "metadata": {},
   "outputs": [],
   "source": []
  },
  {
   "cell_type": "code",
   "execution_count": null,
   "metadata": {},
   "outputs": [],
   "source": []
  }
 ],
 "metadata": {
  "kernelspec": {
   "display_name": "Python 3",
   "language": "python",
   "name": "python3"
  },
  "language_info": {
   "codemirror_mode": {
    "name": "ipython",
    "version": 3
   },
   "file_extension": ".py",
   "mimetype": "text/x-python",
   "name": "python",
   "nbconvert_exporter": "python",
   "pygments_lexer": "ipython3",
   "version": "3.7.7"
  }
 },
 "nbformat": 4,
 "nbformat_minor": 2
}
